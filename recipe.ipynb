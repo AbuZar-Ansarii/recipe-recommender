{
 "cells": [
  {
   "cell_type": "code",
   "execution_count": 97,
   "metadata": {},
   "outputs": [],
   "source": [
    "import pandas as pd"
   ]
  },
  {
   "cell_type": "code",
   "execution_count": 98,
   "metadata": {},
   "outputs": [
    {
     "data": {
      "text/html": [
       "<div>\n",
       "<style scoped>\n",
       "    .dataframe tbody tr th:only-of-type {\n",
       "        vertical-align: middle;\n",
       "    }\n",
       "\n",
       "    .dataframe tbody tr th {\n",
       "        vertical-align: top;\n",
       "    }\n",
       "\n",
       "    .dataframe thead th {\n",
       "        text-align: right;\n",
       "    }\n",
       "</style>\n",
       "<table border=\"1\" class=\"dataframe\">\n",
       "  <thead>\n",
       "    <tr style=\"text-align: right;\">\n",
       "      <th></th>\n",
       "      <th>name</th>\n",
       "      <th>description</th>\n",
       "      <th>cuisine</th>\n",
       "      <th>course</th>\n",
       "      <th>diet</th>\n",
       "      <th>ingredients_name</th>\n",
       "      <th>ingredients_quantity</th>\n",
       "      <th>prep_time (in mins)</th>\n",
       "      <th>cook_time (in mins)</th>\n",
       "      <th>instructions</th>\n",
       "      <th>image_url</th>\n",
       "    </tr>\n",
       "  </thead>\n",
       "  <tbody>\n",
       "    <tr>\n",
       "      <th>0</th>\n",
       "      <td>Chicken Bharta Recipe - Dhaba Style Chicken Ma...</td>\n",
       "      <td>Chicken Bharta which tastes heavenly is a dhab...</td>\n",
       "      <td>Indian</td>\n",
       "      <td>Dinner</td>\n",
       "      <td>High Protein Non Vegetarian</td>\n",
       "      <td>Chicken breasts, Onion, Ginger Garlic Paste, T...</td>\n",
       "      <td>300 grams Chicken breasts , boneless  1 Onion ...</td>\n",
       "      <td>20.0</td>\n",
       "      <td>30.0</td>\n",
       "      <td>To begin making the Chicken Bharta recipe, was...</td>\n",
       "      <td>https://www.archanaskitchen.com/images/archana...</td>\n",
       "    </tr>\n",
       "    <tr>\n",
       "      <th>1</th>\n",
       "      <td>Goan Vegetable Curry Recipe</td>\n",
       "      <td>Goan Vegetable Curry Recipe is a classic dish ...</td>\n",
       "      <td>Goan Recipes</td>\n",
       "      <td>Lunch</td>\n",
       "      <td>Vegetarian</td>\n",
       "      <td>Mixed vegetables, Onion, Salt, Turmeric powder...</td>\n",
       "      <td>4 cups Mixed vegetables , French beans, carrot...</td>\n",
       "      <td>15.0</td>\n",
       "      <td>20.0</td>\n",
       "      <td>To begin making the Goan Vegetable Curry Recip...</td>\n",
       "      <td>https://www.archanaskitchen.com/images/archana...</td>\n",
       "    </tr>\n",
       "    <tr>\n",
       "      <th>2</th>\n",
       "      <td>Charred Corn and Radish Salad Recipe</td>\n",
       "      <td>Charred Corn and Radish Salad is a salad that ...</td>\n",
       "      <td>Fusion</td>\n",
       "      <td>Appetizer</td>\n",
       "      <td>Vegetarian</td>\n",
       "      <td>Corn Cob, Mooli/ Mullangi (Radish), Spring Oni...</td>\n",
       "      <td>1 Corn Cob  1 Mooli/ Mullangi (Radish) , chopp...</td>\n",
       "      <td>5.0</td>\n",
       "      <td>15.0</td>\n",
       "      <td>To begin making the Charred Corn and Radish sa...</td>\n",
       "      <td>https://www.archanaskitchen.com/images/archana...</td>\n",
       "    </tr>\n",
       "    <tr>\n",
       "      <th>3</th>\n",
       "      <td>Maharashtrian Aloo Bhujne Recipe - Potato Stir...</td>\n",
       "      <td>Maharashtrian Aloo Bhujne Recipe is a simple M...</td>\n",
       "      <td>Maharashtrian Recipes</td>\n",
       "      <td>Lunch</td>\n",
       "      <td>Vegetarian</td>\n",
       "      <td>Potato (Aloo), Onions, Mustard seeds (Rai/ Kad...</td>\n",
       "      <td>4 Potato (Aloo) , skins removed and sliced int...</td>\n",
       "      <td>10.0</td>\n",
       "      <td>30.0</td>\n",
       "      <td>To begin making the Maharashtrian Aloo Bhujne ...</td>\n",
       "      <td>https://www.archanaskitchen.com/images/archana...</td>\n",
       "    </tr>\n",
       "    <tr>\n",
       "      <th>4</th>\n",
       "      <td>Savory Carrot Olive Spinach Sandwich Spread Re...</td>\n",
       "      <td>The Savory Carrot Spinach Sandwich Spread is a...</td>\n",
       "      <td>Continental</td>\n",
       "      <td>Snack</td>\n",
       "      <td>Vegetarian</td>\n",
       "      <td>Carrots (Gajjar), Pimiento-stuffed green olive...</td>\n",
       "      <td>2 Carrots (Gajjar) , peeled and grated  2 tabl...</td>\n",
       "      <td>20.0</td>\n",
       "      <td>20.0</td>\n",
       "      <td>To begin making the Savory Carrot Spinach Sand...</td>\n",
       "      <td>https://www.archanaskitchen.com/images/archana...</td>\n",
       "    </tr>\n",
       "  </tbody>\n",
       "</table>\n",
       "</div>"
      ],
      "text/plain": [
       "                                                name  \\\n",
       "0  Chicken Bharta Recipe - Dhaba Style Chicken Ma...   \n",
       "1                        Goan Vegetable Curry Recipe   \n",
       "2               Charred Corn and Radish Salad Recipe   \n",
       "3  Maharashtrian Aloo Bhujne Recipe - Potato Stir...   \n",
       "4  Savory Carrot Olive Spinach Sandwich Spread Re...   \n",
       "\n",
       "                                         description                cuisine  \\\n",
       "0  Chicken Bharta which tastes heavenly is a dhab...                 Indian   \n",
       "1  Goan Vegetable Curry Recipe is a classic dish ...           Goan Recipes   \n",
       "2  Charred Corn and Radish Salad is a salad that ...                 Fusion   \n",
       "3  Maharashtrian Aloo Bhujne Recipe is a simple M...  Maharashtrian Recipes   \n",
       "4  The Savory Carrot Spinach Sandwich Spread is a...            Continental   \n",
       "\n",
       "      course                         diet  \\\n",
       "0     Dinner  High Protein Non Vegetarian   \n",
       "1      Lunch                   Vegetarian   \n",
       "2  Appetizer                   Vegetarian   \n",
       "3      Lunch                   Vegetarian   \n",
       "4      Snack                   Vegetarian   \n",
       "\n",
       "                                    ingredients_name  \\\n",
       "0  Chicken breasts, Onion, Ginger Garlic Paste, T...   \n",
       "1  Mixed vegetables, Onion, Salt, Turmeric powder...   \n",
       "2  Corn Cob, Mooli/ Mullangi (Radish), Spring Oni...   \n",
       "3  Potato (Aloo), Onions, Mustard seeds (Rai/ Kad...   \n",
       "4  Carrots (Gajjar), Pimiento-stuffed green olive...   \n",
       "\n",
       "                                ingredients_quantity  prep_time (in mins)  \\\n",
       "0  300 grams Chicken breasts , boneless  1 Onion ...                 20.0   \n",
       "1  4 cups Mixed vegetables , French beans, carrot...                 15.0   \n",
       "2  1 Corn Cob  1 Mooli/ Mullangi (Radish) , chopp...                  5.0   \n",
       "3  4 Potato (Aloo) , skins removed and sliced int...                 10.0   \n",
       "4  2 Carrots (Gajjar) , peeled and grated  2 tabl...                 20.0   \n",
       "\n",
       "   cook_time (in mins)                                       instructions  \\\n",
       "0                 30.0  To begin making the Chicken Bharta recipe, was...   \n",
       "1                 20.0  To begin making the Goan Vegetable Curry Recip...   \n",
       "2                 15.0  To begin making the Charred Corn and Radish sa...   \n",
       "3                 30.0  To begin making the Maharashtrian Aloo Bhujne ...   \n",
       "4                 20.0  To begin making the Savory Carrot Spinach Sand...   \n",
       "\n",
       "                                           image_url  \n",
       "0  https://www.archanaskitchen.com/images/archana...  \n",
       "1  https://www.archanaskitchen.com/images/archana...  \n",
       "2  https://www.archanaskitchen.com/images/archana...  \n",
       "3  https://www.archanaskitchen.com/images/archana...  \n",
       "4  https://www.archanaskitchen.com/images/archana...  "
      ]
     },
     "execution_count": 98,
     "metadata": {},
     "output_type": "execute_result"
    }
   ],
   "source": [
    "df = pd.read_csv(\"Food_Recipe.csv\")\n",
    "df.head()"
   ]
  },
  {
   "cell_type": "code",
   "execution_count": 99,
   "metadata": {},
   "outputs": [
    {
     "data": {
      "text/plain": [
       "Index(['name', 'description', 'cuisine', 'course', 'diet', 'ingredients_name',\n",
       "       'ingredients_quantity', 'prep_time (in mins)', 'cook_time (in mins)',\n",
       "       'instructions', 'image_url'],\n",
       "      dtype='object')"
      ]
     },
     "execution_count": 99,
     "metadata": {},
     "output_type": "execute_result"
    }
   ],
   "source": [
    "df.columns"
   ]
  },
  {
   "cell_type": "code",
   "execution_count": 100,
   "metadata": {},
   "outputs": [],
   "source": [
    "df.drop(columns=['ingredients_quantity','prep_time (in mins)', 'cook_time (in mins)',],inplace=True)"
   ]
  },
  {
   "cell_type": "code",
   "execution_count": 101,
   "metadata": {},
   "outputs": [
    {
     "data": {
      "text/html": [
       "<div>\n",
       "<style scoped>\n",
       "    .dataframe tbody tr th:only-of-type {\n",
       "        vertical-align: middle;\n",
       "    }\n",
       "\n",
       "    .dataframe tbody tr th {\n",
       "        vertical-align: top;\n",
       "    }\n",
       "\n",
       "    .dataframe thead th {\n",
       "        text-align: right;\n",
       "    }\n",
       "</style>\n",
       "<table border=\"1\" class=\"dataframe\">\n",
       "  <thead>\n",
       "    <tr style=\"text-align: right;\">\n",
       "      <th></th>\n",
       "      <th>name</th>\n",
       "      <th>description</th>\n",
       "      <th>cuisine</th>\n",
       "      <th>course</th>\n",
       "      <th>diet</th>\n",
       "      <th>ingredients_name</th>\n",
       "      <th>instructions</th>\n",
       "      <th>image_url</th>\n",
       "    </tr>\n",
       "  </thead>\n",
       "  <tbody>\n",
       "    <tr>\n",
       "      <th>0</th>\n",
       "      <td>Chicken Bharta Recipe - Dhaba Style Chicken Ma...</td>\n",
       "      <td>Chicken Bharta which tastes heavenly is a dhab...</td>\n",
       "      <td>Indian</td>\n",
       "      <td>Dinner</td>\n",
       "      <td>High Protein Non Vegetarian</td>\n",
       "      <td>Chicken breasts, Onion, Ginger Garlic Paste, T...</td>\n",
       "      <td>To begin making the Chicken Bharta recipe, was...</td>\n",
       "      <td>https://www.archanaskitchen.com/images/archana...</td>\n",
       "    </tr>\n",
       "    <tr>\n",
       "      <th>1</th>\n",
       "      <td>Goan Vegetable Curry Recipe</td>\n",
       "      <td>Goan Vegetable Curry Recipe is a classic dish ...</td>\n",
       "      <td>Goan Recipes</td>\n",
       "      <td>Lunch</td>\n",
       "      <td>Vegetarian</td>\n",
       "      <td>Mixed vegetables, Onion, Salt, Turmeric powder...</td>\n",
       "      <td>To begin making the Goan Vegetable Curry Recip...</td>\n",
       "      <td>https://www.archanaskitchen.com/images/archana...</td>\n",
       "    </tr>\n",
       "    <tr>\n",
       "      <th>2</th>\n",
       "      <td>Charred Corn and Radish Salad Recipe</td>\n",
       "      <td>Charred Corn and Radish Salad is a salad that ...</td>\n",
       "      <td>Fusion</td>\n",
       "      <td>Appetizer</td>\n",
       "      <td>Vegetarian</td>\n",
       "      <td>Corn Cob, Mooli/ Mullangi (Radish), Spring Oni...</td>\n",
       "      <td>To begin making the Charred Corn and Radish sa...</td>\n",
       "      <td>https://www.archanaskitchen.com/images/archana...</td>\n",
       "    </tr>\n",
       "    <tr>\n",
       "      <th>3</th>\n",
       "      <td>Maharashtrian Aloo Bhujne Recipe - Potato Stir...</td>\n",
       "      <td>Maharashtrian Aloo Bhujne Recipe is a simple M...</td>\n",
       "      <td>Maharashtrian Recipes</td>\n",
       "      <td>Lunch</td>\n",
       "      <td>Vegetarian</td>\n",
       "      <td>Potato (Aloo), Onions, Mustard seeds (Rai/ Kad...</td>\n",
       "      <td>To begin making the Maharashtrian Aloo Bhujne ...</td>\n",
       "      <td>https://www.archanaskitchen.com/images/archana...</td>\n",
       "    </tr>\n",
       "    <tr>\n",
       "      <th>4</th>\n",
       "      <td>Savory Carrot Olive Spinach Sandwich Spread Re...</td>\n",
       "      <td>The Savory Carrot Spinach Sandwich Spread is a...</td>\n",
       "      <td>Continental</td>\n",
       "      <td>Snack</td>\n",
       "      <td>Vegetarian</td>\n",
       "      <td>Carrots (Gajjar), Pimiento-stuffed green olive...</td>\n",
       "      <td>To begin making the Savory Carrot Spinach Sand...</td>\n",
       "      <td>https://www.archanaskitchen.com/images/archana...</td>\n",
       "    </tr>\n",
       "  </tbody>\n",
       "</table>\n",
       "</div>"
      ],
      "text/plain": [
       "                                                name  \\\n",
       "0  Chicken Bharta Recipe - Dhaba Style Chicken Ma...   \n",
       "1                        Goan Vegetable Curry Recipe   \n",
       "2               Charred Corn and Radish Salad Recipe   \n",
       "3  Maharashtrian Aloo Bhujne Recipe - Potato Stir...   \n",
       "4  Savory Carrot Olive Spinach Sandwich Spread Re...   \n",
       "\n",
       "                                         description                cuisine  \\\n",
       "0  Chicken Bharta which tastes heavenly is a dhab...                 Indian   \n",
       "1  Goan Vegetable Curry Recipe is a classic dish ...           Goan Recipes   \n",
       "2  Charred Corn and Radish Salad is a salad that ...                 Fusion   \n",
       "3  Maharashtrian Aloo Bhujne Recipe is a simple M...  Maharashtrian Recipes   \n",
       "4  The Savory Carrot Spinach Sandwich Spread is a...            Continental   \n",
       "\n",
       "      course                         diet  \\\n",
       "0     Dinner  High Protein Non Vegetarian   \n",
       "1      Lunch                   Vegetarian   \n",
       "2  Appetizer                   Vegetarian   \n",
       "3      Lunch                   Vegetarian   \n",
       "4      Snack                   Vegetarian   \n",
       "\n",
       "                                    ingredients_name  \\\n",
       "0  Chicken breasts, Onion, Ginger Garlic Paste, T...   \n",
       "1  Mixed vegetables, Onion, Salt, Turmeric powder...   \n",
       "2  Corn Cob, Mooli/ Mullangi (Radish), Spring Oni...   \n",
       "3  Potato (Aloo), Onions, Mustard seeds (Rai/ Kad...   \n",
       "4  Carrots (Gajjar), Pimiento-stuffed green olive...   \n",
       "\n",
       "                                        instructions  \\\n",
       "0  To begin making the Chicken Bharta recipe, was...   \n",
       "1  To begin making the Goan Vegetable Curry Recip...   \n",
       "2  To begin making the Charred Corn and Radish sa...   \n",
       "3  To begin making the Maharashtrian Aloo Bhujne ...   \n",
       "4  To begin making the Savory Carrot Spinach Sand...   \n",
       "\n",
       "                                           image_url  \n",
       "0  https://www.archanaskitchen.com/images/archana...  \n",
       "1  https://www.archanaskitchen.com/images/archana...  \n",
       "2  https://www.archanaskitchen.com/images/archana...  \n",
       "3  https://www.archanaskitchen.com/images/archana...  \n",
       "4  https://www.archanaskitchen.com/images/archana...  "
      ]
     },
     "execution_count": 101,
     "metadata": {},
     "output_type": "execute_result"
    }
   ],
   "source": [
    "df.head()"
   ]
  },
  {
   "cell_type": "code",
   "execution_count": 102,
   "metadata": {},
   "outputs": [
    {
     "name": "stdout",
     "output_type": "stream",
     "text": [
      "<class 'pandas.core.frame.DataFrame'>\n",
      "RangeIndex: 6090 entries, 0 to 6089\n",
      "Data columns (total 8 columns):\n",
      " #   Column            Non-Null Count  Dtype \n",
      "---  ------            --------------  ----- \n",
      " 0   name              6090 non-null   object\n",
      " 1   description       6089 non-null   object\n",
      " 2   cuisine           6053 non-null   object\n",
      " 3   course            5976 non-null   object\n",
      " 4   diet              5992 non-null   object\n",
      " 5   ingredients_name  6084 non-null   object\n",
      " 6   instructions      6090 non-null   object\n",
      " 7   image_url         6090 non-null   object\n",
      "dtypes: object(8)\n",
      "memory usage: 380.8+ KB\n"
     ]
    }
   ],
   "source": [
    "df.info()"
   ]
  },
  {
   "cell_type": "code",
   "execution_count": 103,
   "metadata": {},
   "outputs": [
    {
     "data": {
      "text/plain": [
       "name                  0\n",
       "description           1\n",
       "cuisine              37\n",
       "course              114\n",
       "diet                 98\n",
       "ingredients_name      6\n",
       "instructions          0\n",
       "image_url             0\n",
       "dtype: int64"
      ]
     },
     "execution_count": 103,
     "metadata": {},
     "output_type": "execute_result"
    }
   ],
   "source": [
    "df.isnull().sum()"
   ]
  },
  {
   "cell_type": "code",
   "execution_count": 104,
   "metadata": {},
   "outputs": [],
   "source": [
    "df[\"description\"] = df[\"description\"].fillna(\"Chicken Bharta which tastes heavenly is a dhaba style preparation where shredded chicken is cooked in spicy creamy gravy. Chicken Bharta is deliciously creamy in taste due to the use of mashed egg yolk, fresh cream and yogurt in it\")\n",
    "df[\"cuisine\"] = df[\"cuisine\"].fillna(\"Indian\")\n",
    "df[\"course\"] = df[\"course\"].fillna(\"Lunch\")\n",
    "df[\"diet\"] = df[\"diet\"].fillna(\"Vegetarian\")\n",
    "df[\"ingredients_name\"] = df[\"ingredients_name\"].fillna(\"Lemons, Sugar, Salt, Red Chilli powder\")"
   ]
  },
  {
   "cell_type": "code",
   "execution_count": 105,
   "metadata": {},
   "outputs": [
    {
     "data": {
      "text/plain": [
       "name                0\n",
       "description         0\n",
       "cuisine             0\n",
       "course              0\n",
       "diet                0\n",
       "ingredients_name    0\n",
       "instructions        0\n",
       "image_url           0\n",
       "dtype: int64"
      ]
     },
     "execution_count": 105,
     "metadata": {},
     "output_type": "execute_result"
    }
   ],
   "source": [
    "df.isnull().sum()"
   ]
  },
  {
   "cell_type": "code",
   "execution_count": 106,
   "metadata": {},
   "outputs": [],
   "source": [
    "df[\"Food\"] = df[\"name\"]+ ' ' + df[\"course\"]+' '+df[\"cuisine\"]+' '+df[\"diet\"]+' '+df[\"ingredients_name\"]+' '+df[\"description\"]"
   ]
  },
  {
   "cell_type": "code",
   "execution_count": 107,
   "metadata": {},
   "outputs": [
    {
     "data": {
      "text/html": [
       "<div>\n",
       "<style scoped>\n",
       "    .dataframe tbody tr th:only-of-type {\n",
       "        vertical-align: middle;\n",
       "    }\n",
       "\n",
       "    .dataframe tbody tr th {\n",
       "        vertical-align: top;\n",
       "    }\n",
       "\n",
       "    .dataframe thead th {\n",
       "        text-align: right;\n",
       "    }\n",
       "</style>\n",
       "<table border=\"1\" class=\"dataframe\">\n",
       "  <thead>\n",
       "    <tr style=\"text-align: right;\">\n",
       "      <th></th>\n",
       "      <th>name</th>\n",
       "      <th>description</th>\n",
       "      <th>cuisine</th>\n",
       "      <th>course</th>\n",
       "      <th>diet</th>\n",
       "      <th>ingredients_name</th>\n",
       "      <th>instructions</th>\n",
       "      <th>image_url</th>\n",
       "      <th>Food</th>\n",
       "    </tr>\n",
       "  </thead>\n",
       "  <tbody>\n",
       "    <tr>\n",
       "      <th>0</th>\n",
       "      <td>Chicken Bharta Recipe - Dhaba Style Chicken Ma...</td>\n",
       "      <td>Chicken Bharta which tastes heavenly is a dhab...</td>\n",
       "      <td>Indian</td>\n",
       "      <td>Dinner</td>\n",
       "      <td>High Protein Non Vegetarian</td>\n",
       "      <td>Chicken breasts, Onion, Ginger Garlic Paste, T...</td>\n",
       "      <td>To begin making the Chicken Bharta recipe, was...</td>\n",
       "      <td>https://www.archanaskitchen.com/images/archana...</td>\n",
       "      <td>Chicken Bharta Recipe - Dhaba Style Chicken Ma...</td>\n",
       "    </tr>\n",
       "    <tr>\n",
       "      <th>1</th>\n",
       "      <td>Goan Vegetable Curry Recipe</td>\n",
       "      <td>Goan Vegetable Curry Recipe is a classic dish ...</td>\n",
       "      <td>Goan Recipes</td>\n",
       "      <td>Lunch</td>\n",
       "      <td>Vegetarian</td>\n",
       "      <td>Mixed vegetables, Onion, Salt, Turmeric powder...</td>\n",
       "      <td>To begin making the Goan Vegetable Curry Recip...</td>\n",
       "      <td>https://www.archanaskitchen.com/images/archana...</td>\n",
       "      <td>Goan Vegetable Curry Recipe Lunch Goan Recipes...</td>\n",
       "    </tr>\n",
       "    <tr>\n",
       "      <th>2</th>\n",
       "      <td>Charred Corn and Radish Salad Recipe</td>\n",
       "      <td>Charred Corn and Radish Salad is a salad that ...</td>\n",
       "      <td>Fusion</td>\n",
       "      <td>Appetizer</td>\n",
       "      <td>Vegetarian</td>\n",
       "      <td>Corn Cob, Mooli/ Mullangi (Radish), Spring Oni...</td>\n",
       "      <td>To begin making the Charred Corn and Radish sa...</td>\n",
       "      <td>https://www.archanaskitchen.com/images/archana...</td>\n",
       "      <td>Charred Corn and Radish Salad Recipe Appetizer...</td>\n",
       "    </tr>\n",
       "    <tr>\n",
       "      <th>3</th>\n",
       "      <td>Maharashtrian Aloo Bhujne Recipe - Potato Stir...</td>\n",
       "      <td>Maharashtrian Aloo Bhujne Recipe is a simple M...</td>\n",
       "      <td>Maharashtrian Recipes</td>\n",
       "      <td>Lunch</td>\n",
       "      <td>Vegetarian</td>\n",
       "      <td>Potato (Aloo), Onions, Mustard seeds (Rai/ Kad...</td>\n",
       "      <td>To begin making the Maharashtrian Aloo Bhujne ...</td>\n",
       "      <td>https://www.archanaskitchen.com/images/archana...</td>\n",
       "      <td>Maharashtrian Aloo Bhujne Recipe - Potato Stir...</td>\n",
       "    </tr>\n",
       "    <tr>\n",
       "      <th>4</th>\n",
       "      <td>Savory Carrot Olive Spinach Sandwich Spread Re...</td>\n",
       "      <td>The Savory Carrot Spinach Sandwich Spread is a...</td>\n",
       "      <td>Continental</td>\n",
       "      <td>Snack</td>\n",
       "      <td>Vegetarian</td>\n",
       "      <td>Carrots (Gajjar), Pimiento-stuffed green olive...</td>\n",
       "      <td>To begin making the Savory Carrot Spinach Sand...</td>\n",
       "      <td>https://www.archanaskitchen.com/images/archana...</td>\n",
       "      <td>Savory Carrot Olive Spinach Sandwich Spread Re...</td>\n",
       "    </tr>\n",
       "  </tbody>\n",
       "</table>\n",
       "</div>"
      ],
      "text/plain": [
       "                                                name  \\\n",
       "0  Chicken Bharta Recipe - Dhaba Style Chicken Ma...   \n",
       "1                        Goan Vegetable Curry Recipe   \n",
       "2               Charred Corn and Radish Salad Recipe   \n",
       "3  Maharashtrian Aloo Bhujne Recipe - Potato Stir...   \n",
       "4  Savory Carrot Olive Spinach Sandwich Spread Re...   \n",
       "\n",
       "                                         description                cuisine  \\\n",
       "0  Chicken Bharta which tastes heavenly is a dhab...                 Indian   \n",
       "1  Goan Vegetable Curry Recipe is a classic dish ...           Goan Recipes   \n",
       "2  Charred Corn and Radish Salad is a salad that ...                 Fusion   \n",
       "3  Maharashtrian Aloo Bhujne Recipe is a simple M...  Maharashtrian Recipes   \n",
       "4  The Savory Carrot Spinach Sandwich Spread is a...            Continental   \n",
       "\n",
       "      course                         diet  \\\n",
       "0     Dinner  High Protein Non Vegetarian   \n",
       "1      Lunch                   Vegetarian   \n",
       "2  Appetizer                   Vegetarian   \n",
       "3      Lunch                   Vegetarian   \n",
       "4      Snack                   Vegetarian   \n",
       "\n",
       "                                    ingredients_name  \\\n",
       "0  Chicken breasts, Onion, Ginger Garlic Paste, T...   \n",
       "1  Mixed vegetables, Onion, Salt, Turmeric powder...   \n",
       "2  Corn Cob, Mooli/ Mullangi (Radish), Spring Oni...   \n",
       "3  Potato (Aloo), Onions, Mustard seeds (Rai/ Kad...   \n",
       "4  Carrots (Gajjar), Pimiento-stuffed green olive...   \n",
       "\n",
       "                                        instructions  \\\n",
       "0  To begin making the Chicken Bharta recipe, was...   \n",
       "1  To begin making the Goan Vegetable Curry Recip...   \n",
       "2  To begin making the Charred Corn and Radish sa...   \n",
       "3  To begin making the Maharashtrian Aloo Bhujne ...   \n",
       "4  To begin making the Savory Carrot Spinach Sand...   \n",
       "\n",
       "                                           image_url  \\\n",
       "0  https://www.archanaskitchen.com/images/archana...   \n",
       "1  https://www.archanaskitchen.com/images/archana...   \n",
       "2  https://www.archanaskitchen.com/images/archana...   \n",
       "3  https://www.archanaskitchen.com/images/archana...   \n",
       "4  https://www.archanaskitchen.com/images/archana...   \n",
       "\n",
       "                                                Food  \n",
       "0  Chicken Bharta Recipe - Dhaba Style Chicken Ma...  \n",
       "1  Goan Vegetable Curry Recipe Lunch Goan Recipes...  \n",
       "2  Charred Corn and Radish Salad Recipe Appetizer...  \n",
       "3  Maharashtrian Aloo Bhujne Recipe - Potato Stir...  \n",
       "4  Savory Carrot Olive Spinach Sandwich Spread Re...  "
      ]
     },
     "execution_count": 107,
     "metadata": {},
     "output_type": "execute_result"
    }
   ],
   "source": [
    "df.head()"
   ]
  },
  {
   "cell_type": "code",
   "execution_count": 108,
   "metadata": {},
   "outputs": [],
   "source": [
    "import nltk\n",
    "from nltk.corpus import  stopwords"
   ]
  },
  {
   "cell_type": "code",
   "execution_count": 109,
   "metadata": {},
   "outputs": [],
   "source": [
    "def raw_text(text):\n",
    "    text = text.lower()\n",
    "    words = text.split()\n",
    "    stop_words = stopwords.words(\"english\")\n",
    "    clean_text = [word for word in words if word.lower() not in stop_words]\n",
    "    return \" \".join(clean_text)"
   ]
  },
  {
   "cell_type": "code",
   "execution_count": 110,
   "metadata": {},
   "outputs": [],
   "source": [
    "df[\"Food\"] = df[\"Food\"].apply(raw_text)"
   ]
  },
  {
   "cell_type": "code",
   "execution_count": 111,
   "metadata": {},
   "outputs": [],
   "source": [
    "def lower_text(text):\n",
    "    text = text.lower()\n",
    "    return text"
   ]
  },
  {
   "cell_type": "code",
   "execution_count": 112,
   "metadata": {},
   "outputs": [],
   "source": [
    "df[\"name\"] = df[\"name\"].apply(lower_text)"
   ]
  },
  {
   "cell_type": "code",
   "execution_count": 113,
   "metadata": {},
   "outputs": [],
   "source": [
    "from sklearn.feature_extraction.text import CountVectorizer\n",
    "cv = CountVectorizer(max_features= 500)\n",
    "from sklearn.metrics.pairwise import cosine_similarity"
   ]
  },
  {
   "cell_type": "code",
   "execution_count": null,
   "metadata": {},
   "outputs": [],
   "source": []
  },
  {
   "cell_type": "code",
   "execution_count": 114,
   "metadata": {},
   "outputs": [],
   "source": [
    "vectored_text = cv.fit_transform(df[\"Food\"]).toarray()"
   ]
  },
  {
   "cell_type": "code",
   "execution_count": 115,
   "metadata": {},
   "outputs": [],
   "source": [
    "matching = cosine_similarity(vectored_text)"
   ]
  },
  {
   "cell_type": "code",
   "execution_count": 116,
   "metadata": {},
   "outputs": [
    {
     "data": {
      "text/plain": [
       "array([[1.        , 0.27384731, 0.15114173, ..., 0.27037055, 0.14679517,\n",
       "        0.08742769],\n",
       "       [0.27384731, 1.        , 0.15795682, ..., 0.27425112, 0.13028933,\n",
       "        0.16496188],\n",
       "       [0.15114173, 0.15795682, 1.        , ..., 0.20640627, 0.14163943,\n",
       "        0.0718782 ],\n",
       "       ...,\n",
       "       [0.27037055, 0.27425112, 0.20640627, ..., 1.        , 0.11694107,\n",
       "        0.08571975],\n",
       "       [0.14679517, 0.13028933, 0.14163943, ..., 0.11694107, 1.        ,\n",
       "        0.26470046],\n",
       "       [0.08742769, 0.16496188, 0.0718782 , ..., 0.08571975, 0.26470046,\n",
       "        1.        ]])"
      ]
     },
     "execution_count": 116,
     "metadata": {},
     "output_type": "execute_result"
    }
   ],
   "source": [
    "matching"
   ]
  },
  {
   "cell_type": "code",
   "execution_count": 117,
   "metadata": {},
   "outputs": [],
   "source": [
    "def recipe_matcher(rec):\n",
    "    index_of_recipe = df[df[\"name\"]==rec].index[0]\n",
    "    close_distance = matching[index_of_recipe]\n",
    "    lst_of_recipe = sorted(list(enumerate(close_distance)),reverse=True,key=lambda x:x[1])[0:10]\n",
    "    \n",
    "    for i in lst_of_recipe:\n",
    "        print(df.name.iloc[i[0]])"
   ]
  },
  {
   "cell_type": "code",
   "execution_count": 118,
   "metadata": {},
   "outputs": [],
   "source": [
    "rec = 'chicken bharta recipe - dhaba style chicken masala'"
   ]
  },
  {
   "cell_type": "code",
   "execution_count": 119,
   "metadata": {},
   "outputs": [
    {
     "name": "stdout",
     "output_type": "stream",
     "text": [
      "chicken bharta recipe - dhaba style chicken masala\n",
      "ajmeri murgh recipe\n",
      "chicken tikka masala recipe\n",
      "chicken tikki recipe - chicken cutlet\n",
      "kasuri malai murgh recipe\n",
      "butter chicken with tandoori mayo recipe\n",
      "sindhi style chicken curry recipe using preethi electric pressure cooker\n",
      "kasuri malai murgh tikka recipe\n",
      "murgh masala recipe - chicken tangdi masala\n",
      "mughlai style chicken changezi recipe\n"
     ]
    }
   ],
   "source": [
    "recipe_matcher(rec)"
   ]
  },
  {
   "cell_type": "code",
   "execution_count": 120,
   "metadata": {},
   "outputs": [
    {
     "data": {
      "text/plain": [
       "'chettinad keerai mandi recipe with amaranth greens'"
      ]
     },
     "execution_count": 120,
     "metadata": {},
     "output_type": "execute_result"
    }
   ],
   "source": [
    "df[\"name\"][78]"
   ]
  },
  {
   "cell_type": "code",
   "execution_count": 121,
   "metadata": {},
   "outputs": [],
   "source": [
    "def recipe_food(food):\n",
    "    index_of_recipe = df[df[\"name\"]==food].index[0]\n",
    "    cuisine_type = df[\"cuisine\"][index_of_recipe]\n",
    "    diet_type = df[\"diet\"][index_of_recipe]\n",
    "    ingredients_names = df[\"ingredients_name\"][index_of_recipe]\n",
    "    print(cuisine_type)\n",
    "    print(diet_type)\n",
    "    print(ingredients_names)\n"
   ]
  },
  {
   "cell_type": "code",
   "execution_count": 122,
   "metadata": {},
   "outputs": [
    {
     "name": "stdout",
     "output_type": "stream",
     "text": [
      "Chettinad\n",
      "High Protein Vegetarian\n",
      "Green Amaranth Leaves, Pearl onions (Sambar Onions), Green Chilli, Garlic, Dry Red Chillies, Mustard seeds (Rai/ Kadugu), White Urad Dal (Split), Mandi, Fresh coconut, Sesame (Gingelly) Oil, Salt\n"
     ]
    }
   ],
   "source": [
    "recipe_food('chettinad keerai mandi recipe with amaranth greens')"
   ]
  },
  {
   "cell_type": "code",
   "execution_count": 123,
   "metadata": {},
   "outputs": [],
   "source": [
    "rec_name = df[\"name\"].tolist()"
   ]
  },
  {
   "cell_type": "code",
   "execution_count": 124,
   "metadata": {},
   "outputs": [],
   "source": [
    "import pickle"
   ]
  },
  {
   "cell_type": "code",
   "execution_count": 125,
   "metadata": {},
   "outputs": [],
   "source": [
    "pickle.dump(rec_name,open('rec_name.pkl','wb'))"
   ]
  },
  {
   "cell_type": "code",
   "execution_count": 126,
   "metadata": {},
   "outputs": [],
   "source": [
    "pickle.dump(matching,open('rec_matching.pkl','wb'))"
   ]
  },
  {
   "cell_type": "code",
   "execution_count": 127,
   "metadata": {},
   "outputs": [
    {
     "name": "stdout",
     "output_type": "stream",
     "text": [
      "chicken bharta recipe - dhaba style chicken masala\n",
      "ajmeri murgh recipe\n",
      "chicken tikka masala recipe\n",
      "chicken tikki recipe - chicken cutlet\n",
      "kasuri malai murgh recipe\n",
      "butter chicken with tandoori mayo recipe\n",
      "sindhi style chicken curry recipe using preethi electric pressure cooker\n",
      "kasuri malai murgh tikka recipe\n",
      "murgh masala recipe - chicken tangdi masala\n",
      "mughlai style chicken changezi recipe\n"
     ]
    }
   ],
   "source": [
    "recipe_matcher('chicken bharta recipe - dhaba style chicken masala')"
   ]
  },
  {
   "cell_type": "code",
   "execution_count": 128,
   "metadata": {},
   "outputs": [],
   "source": [
    "pickle.dump(df,open('df_recipe.pkl','wb'))"
   ]
  },
  {
   "cell_type": "code",
   "execution_count": 129,
   "metadata": {},
   "outputs": [
    {
     "name": "stdout",
     "output_type": "stream",
     "text": [
      "Rajasthani\n",
      "High Protein Non Vegetarian\n",
      "Chicken, Ghee, Onion, Coriander Powder (Dhania), Red Chilli powder, Garam masala powder, Fresh cream, Cashew nuts, Salt, Mint Leaves (Pudina), Coriander (Dhania) Leaves, Curd (Dahi / Yogurt), Ginger, Garlic, Green Chilli, Mustard oil, Salt, Lemon juice, Bay leaves (tej patta), Whole Black Peppercorns, Cloves (Laung), Black cardamom (Badi Elaichi), Cardamom (Elaichi) Pods/Seeds, Cinnamon Stick (Dalchini), Mace (Javitri), Ajwain (Carom seeds)\n"
     ]
    }
   ],
   "source": [
    "recipe_food(\"ajmeri murgh recipe\")"
   ]
  },
  {
   "cell_type": "code",
   "execution_count": 130,
   "metadata": {},
   "outputs": [
    {
     "name": "stdout",
     "output_type": "stream",
     "text": [
      "chicken bharta recipe - dhaba style chicken masala\n",
      "ajmeri murgh recipe\n",
      "chicken tikka masala recipe\n",
      "chicken tikki recipe - chicken cutlet\n",
      "kasuri malai murgh recipe\n",
      "butter chicken with tandoori mayo recipe\n",
      "sindhi style chicken curry recipe using preethi electric pressure cooker\n",
      "kasuri malai murgh tikka recipe\n",
      "murgh masala recipe - chicken tangdi masala\n",
      "mughlai style chicken changezi recipe\n"
     ]
    }
   ],
   "source": [
    "recommendations = recipe_matcher('chicken bharta recipe - dhaba style chicken masala')\n",
    "# for rec_recipe in recommendations:\n",
    "#     print(rec_recipe)"
   ]
  },
  {
   "cell_type": "code",
   "execution_count": null,
   "metadata": {},
   "outputs": [],
   "source": []
  },
  {
   "cell_type": "code",
   "execution_count": null,
   "metadata": {},
   "outputs": [],
   "source": []
  }
 ],
 "metadata": {
  "kernelspec": {
   "display_name": "Python 3",
   "language": "python",
   "name": "python3"
  },
  "language_info": {
   "codemirror_mode": {
    "name": "ipython",
    "version": 3
   },
   "file_extension": ".py",
   "mimetype": "text/x-python",
   "name": "python",
   "nbconvert_exporter": "python",
   "pygments_lexer": "ipython3",
   "version": "3.12.8"
  }
 },
 "nbformat": 4,
 "nbformat_minor": 2
}
